{
 "cells": [
  {
   "cell_type": "code",
   "execution_count": 1,
   "metadata": {},
   "outputs": [
    {
     "name": "stdout",
     "output_type": "stream",
     "text": [
      "2\n"
     ]
    }
   ],
   "source": [
    "def Twinprime(start, end): \n",
    " \n",
    "    prime = [True for i in range(end+1)] \n",
    "    p = 2\n",
    "    #print(len(prime))\n",
    "      \n",
    "    while (p * p <= end+1):          \n",
    "        if (prime[p] == True):               \n",
    "            for i in range(p * 2, end+1, p): #Sieve of Eratosthenes\n",
    "                prime[i] = False\n",
    "        p += 1\n",
    "    \n",
    "    f = open('myFirstFile.txt', 'w')\n",
    "    \n",
    "    for p in range(start, end-1): \n",
    "        if prime[p] and prime[p + 2]: \n",
    "            f.write(str(p) + ' ' + str(p + 2) + '\\n')\n",
    "    f.close()\n",
    "            \n",
    "if __name__ == '__main__':\n",
    "    n = int(input())\n",
    "    start = 10**(n-1)\n",
    "    end = (10**(n))-1\n",
    "    Twinprime(start, end)"
   ]
  },
  {
   "cell_type": "code",
   "execution_count": 2,
   "metadata": {},
   "outputs": [
    {
     "name": "stdout",
     "output_type": "stream",
     "text": [
      "999\n",
      "1001\n"
     ]
    }
   ],
   "source": [
    "def NextPalindrome (num, n) : \n",
    "    \n",
    "    i = int(n/2)\n",
    "    j = i if (n % 2) else i - 1  \n",
    "    \n",
    "    num = str(int(num)+(10**i))\n",
    "    num = [char for char in num]\n",
    "    \n",
    "    if(len(num)>n):\n",
    "        n+=1\n",
    "        i = int(n/2)\n",
    "        j = i if (n % 2) else i - 1 \n",
    "  \n",
    "    while (i < n and j>=0) : \n",
    "        num[i] = num[j]\n",
    "        i+=1\n",
    "        j-=1\n",
    "        \n",
    "    num2=''\n",
    "    for c in num:\n",
    "        num2 += c\n",
    "    print(num2)\n",
    "    \n",
    "if __name__ == '__main__':\n",
    "    num = input()\n",
    "    n = len(num)\n",
    "    NextPalindrome(num, n)"
   ]
  },
  {
   "cell_type": "code",
   "execution_count": 3,
   "metadata": {},
   "outputs": [],
   "source": [
    "from math import sqrt\n",
    "\n",
    "class Complex:\n",
    "    def __init__(self, real, imag=0.0):\n",
    "        self.real = real\n",
    "        self.imag = imag\n",
    "        \n",
    "    def add(self, other):\n",
    "        return Complex(self.real + other.real, self.imag + other.imag)\n",
    "    \n",
    "    def sub(self, other):\n",
    "        return Complex(self.real - other.real, self.imag - other.imag)\n",
    "    \n",
    "    def multiply(self, other):\n",
    "        return Complex(self.real*other.real - self.imag*other.imag, self.real*other.imag + self.imag*other.real)\n",
    "    \n",
    "    def display(self):\n",
    "        if self.imag > 0:\n",
    "            print(str(self.real)+' + '+str(self.imag)+'i')\n",
    "        else:\n",
    "            print(str(self.real)+' '+str(self.imag)+'i')\n",
    "            \n",
    "    def mag(self):\n",
    "        return sqrt(self.real**2 + self.imag**2)\n",
    "\n",
    "    def conj(self):\n",
    "        return Complex(self.real, self.imag*-1)\n",
    "    \n",
    "    def inverse(self):\n",
    "        m = self.mag()\n",
    "        return Complex(self.conj().real/m**2, self.conj().imag/m**2)"
   ]
  },
  {
   "cell_type": "code",
   "execution_count": 4,
   "metadata": {},
   "outputs": [
    {
     "name": "stdout",
     "output_type": "stream",
     "text": [
      "4 + 6i\n",
      "2 + 2i\n",
      "-5 + 10i\n",
      "5.0\n",
      "3 -4i\n",
      "0.12 -0.16i\n"
     ]
    }
   ],
   "source": [
    "c = Complex(3, 4)\n",
    "d = Complex(1, 2)\n",
    "\n",
    "c.add(d).display()\n",
    "c.sub(d).display()\n",
    "c.multiply(d).display()\n",
    "print(c.mag())\n",
    "c.conj().display()\n",
    "c.inverse().display()"
   ]
  },
  {
   "cell_type": "code",
   "execution_count": 5,
   "metadata": {},
   "outputs": [],
   "source": [
    "import numpy as np\n",
    "\n",
    "def theta(y):\n",
    "    X = np.random.normal(size=(20, 20))\n",
    "    y = y.astype('float64')\n",
    "    theta = np.dot(np.dot(np.linalg.inv(np.dot(X.T, X)), X.T), y)\n",
    "    return theta"
   ]
  },
  {
   "cell_type": "code",
   "execution_count": 8,
   "metadata": {},
   "outputs": [
    {
     "name": "stdout",
     "output_type": "stream",
     "text": [
      "[76 32 27  9 33 81 12 72 53 93 51 64 30 10 64 13 78  8 76 76]\n"
     ]
    },
    {
     "data": {
      "text/plain": [
       "array([-1.62684253, -0.79344672, -4.6092869 ,  1.26782159,  0.03798427,\n",
       "        3.04660101,  4.2403639 , -2.20354055,  1.60951167, -4.82150175,\n",
       "       -4.51703785, -2.99185382,  0.76054172,  0.09530704, -1.56967268,\n",
       "        5.60006517,  1.99690479,  0.20318752,  1.35438556, -5.07767215])"
      ]
     },
     "execution_count": 8,
     "metadata": {},
     "output_type": "execute_result"
    }
   ],
   "source": [
    "y = np.random.randint(0, 100, (20), dtype=np.int32)\n",
    "print(y)\n",
    "theta(np.ones(20, 'int32'))"
   ]
  },
  {
   "cell_type": "code",
   "execution_count": null,
   "metadata": {},
   "outputs": [],
   "source": []
  }
 ],
 "metadata": {
  "kernelspec": {
   "display_name": "Python 3",
   "language": "python",
   "name": "python3"
  },
  "language_info": {
   "codemirror_mode": {
    "name": "ipython",
    "version": 3
   },
   "file_extension": ".py",
   "mimetype": "text/x-python",
   "name": "python",
   "nbconvert_exporter": "python",
   "pygments_lexer": "ipython3",
   "version": "3.8.3"
  }
 },
 "nbformat": 4,
 "nbformat_minor": 4
}
