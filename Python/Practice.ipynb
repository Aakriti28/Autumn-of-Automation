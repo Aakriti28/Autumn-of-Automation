{
 "cells": [
  {
   "cell_type": "code",
   "execution_count": 21,
   "metadata": {},
   "outputs": [
    {
     "name": "stdout",
     "output_type": "stream",
     "text": [
      "2\n"
     ]
    }
   ],
   "source": [
    "def Twinprime(start, end): \n",
    " \n",
    "    prime = [True for i in range(end+1)] \n",
    "    p = 2\n",
    "    #print(len(prime))\n",
    "      \n",
    "    while (p * p <= end+1):          \n",
    "        if (prime[p] == True):               \n",
    "            for i in range(p * 2, end+1, p): #Sieve of Eratosthenes\n",
    "                prime[i] = False\n",
    "        p += 1\n",
    "    \n",
    "    f = open('myFirstFile.txt', 'w')\n",
    "    \n",
    "    for p in range(start, end-1): \n",
    "        if prime[p] and prime[p + 2]: \n",
    "            f.write(str(p) + ' ' + str(p + 2) + '\\n')\n",
    "    f.close()\n",
    "            \n",
    "if __name__ == '__main__':\n",
    "    n = int(input())\n",
    "    start = 10**(n-1)\n",
    "    end = (10**(n))-1\n",
    "    Twinprime(start, end)"
   ]
  },
  {
   "cell_type": "code",
   "execution_count": 47,
   "metadata": {},
   "outputs": [
    {
     "name": "stdout",
     "output_type": "stream",
     "text": [
      "999\n",
      "1001\n"
     ]
    }
   ],
   "source": [
    "def NextPalindrome (num, n) : \n",
    "    \n",
    "    i = int(n/2)\n",
    "    j = i if (n % 2) else i - 1  \n",
    "    \n",
    "    num = str(int(num)+(10**i))\n",
    "    num = [char for char in num]\n",
    "    \n",
    "    if(len(num)>n):\n",
    "        n+=1\n",
    "        i = int(n/2)\n",
    "        j = i if (n % 2) else i - 1 \n",
    "  \n",
    "    while (i < n and j>=0) : \n",
    "        num[i] = num[j]\n",
    "        i+=1\n",
    "        j-=1\n",
    "        \n",
    "    num2=''\n",
    "    for c in num:\n",
    "        num2 += c\n",
    "    print(num2)\n",
    "    \n",
    "if __name__ == '__main__':\n",
    "    num = input()\n",
    "    n = len(num)\n",
    "    NextPalindrome(num, n)"
   ]
  },
  {
   "cell_type": "code",
   "execution_count": null,
   "metadata": {},
   "outputs": [],
   "source": []
  }
 ],
 "metadata": {
  "kernelspec": {
   "display_name": "Python 3",
   "language": "python",
   "name": "python3"
  },
  "language_info": {
   "codemirror_mode": {
    "name": "ipython",
    "version": 3
   },
   "file_extension": ".py",
   "mimetype": "text/x-python",
   "name": "python",
   "nbconvert_exporter": "python",
   "pygments_lexer": "ipython3",
   "version": "3.8.3"
  }
 },
 "nbformat": 4,
 "nbformat_minor": 4
}
