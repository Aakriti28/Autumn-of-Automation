{
  "nbformat": 4,
  "nbformat_minor": 0,
  "metadata": {
    "colab": {
      "name": "Copy of ML.ipynb",
      "provenance": [],
      "collapsed_sections": []
    },
    "kernelspec": {
      "name": "python3",
      "display_name": "Python 3"
    },
    "accelerator": "GPU"
  },
  "cells": [
    {
      "cell_type": "code",
      "metadata": {
        "id": "ZLJJFUKfXybZ",
        "colab_type": "code",
        "colab": {}
      },
      "source": [
        "import sys\n",
        "import os\n",
        "import torch\n",
        "import cv2 as cv\n",
        "import numpy as np\n",
        "import torchvision\n",
        "from torch import nn, optim\n",
        "import torch.nn.functional as F\n",
        "import torch.utils.data\n",
        "import torchvision.datasets as dset\n",
        "import torchvision.utils as vutils\n",
        "from torch.utils.data import DataLoader, Dataset\n",
        "from torch.autograd.variable import Variable\n",
        "from torchvision import transforms, datasets\n",
        "import matplotlib.pyplot as plt\n",
        "import random\n",
        "from torch.utils.data.sampler import SubsetRandomSampler\n",
        "from PIL import Image\n",
        "from tqdm import tqdm"
      ],
      "execution_count": null,
      "outputs": []
    },
    {
      "cell_type": "code",
      "metadata": {
        "id": "DPDHrhK7Zm-Z",
        "colab_type": "code",
        "colab": {
          "base_uri": "https://localhost:8080/",
          "height": 35
        },
        "outputId": "22bdb93b-0b9f-4b1a-c253-4aec6afb0f7d"
      },
      "source": [
        "from google.colab import drive\n",
        "drive.mount('/content/drive')"
      ],
      "execution_count": null,
      "outputs": [
        {
          "output_type": "stream",
          "text": [
            "Drive already mounted at /content/drive; to attempt to forcibly remount, call drive.mount(\"/content/drive\", force_remount=True).\n"
          ],
          "name": "stdout"
        }
      ]
    },
    {
      "cell_type": "code",
      "metadata": {
        "id": "31NxitxS44R4",
        "colab_type": "code",
        "colab": {
          "base_uri": "https://localhost:8080/",
          "height": 105
        },
        "outputId": "650f3355-9887-4cc9-f2ac-2b3355724d0f"
      },
      "source": [
        "#Using GPU\n",
        "print(sys.version)\n",
        "if torch.cuda.is_available():\n",
        "  device = 'cuda'\n",
        "else:\n",
        "  device = 'cpu'\n",
        "#Checking for GPU\n",
        "print(torch.version.cuda)\n",
        "print(torch.cuda.device_count())\n",
        "print(torch.cuda.is_available())"
      ],
      "execution_count": null,
      "outputs": [
        {
          "output_type": "stream",
          "text": [
            "3.6.9 (default, Apr 18 2020, 01:56:04) \n",
            "[GCC 8.4.0]\n",
            "10.1\n",
            "1\n",
            "True\n"
          ],
          "name": "stdout"
        }
      ]
    },
    {
      "cell_type": "code",
      "metadata": {
        "id": "47iXFjk7ca5i",
        "colab_type": "code",
        "colab": {
          "base_uri": "https://localhost:8080/",
          "height": 52
        },
        "outputId": "6eb46be5-c291-45ea-bc39-9cf64450822c"
      },
      "source": [
        "lookup1 = dict() #direction\n",
        "reverselookup1 = dict()\n",
        "lookup2 = dict() #expression\n",
        "reverselookup2 = dict()\n",
        "lookup3 = dict() #sunglasses\n",
        "reverselookup3 = dict()\n",
        "\n",
        "for i, j in enumerate(os.listdir('drive/My Drive/Advanced_Assignment_Dataset/')):\n",
        "  if not j.startswith('.'):\n",
        "    filename = str(j).split('.')[0]\n",
        "    attributes = filename.split('_')[:3]\n",
        "    #print(i, attributes)\n",
        "\n",
        "    if attributes[0] not in lookup1:\n",
        "      lookup1[attributes[0]] = len(lookup1)\n",
        "      reverselookup1[len(lookup1)-1] = attributes[0]\n",
        "\n",
        "    if attributes[1] not in lookup2:\n",
        "      lookup2[attributes[1]] = len(lookup2)\n",
        "      reverselookup2[len(lookup2)-1] = attributes[1]\n",
        "\n",
        "    if attributes[2] not in lookup3:\n",
        "      lookup3[attributes[2]] = len(lookup3)\n",
        "      reverselookup3[len(lookup3)-1] = attributes[2]\n",
        "\n",
        "        \n",
        "print(lookup1, lookup2, lookup3)\n",
        "print(reverselookup1, reverselookup2, reverselookup3)"
      ],
      "execution_count": null,
      "outputs": [
        {
          "output_type": "stream",
          "text": [
            "{'left': 0, 'right': 1, 'straight': 2, 'up': 3} {'angry': 0, 'happy': 1, 'neutral': 2, 'sad': 3} {'open': 0, 'sunglasses': 1}\n",
            "{0: 'left', 1: 'right', 2: 'straight', 3: 'up'} {0: 'angry', 1: 'happy', 2: 'neutral', 3: 'sad'} {0: 'open', 1: 'sunglasses'}\n"
          ],
          "name": "stdout"
        }
      ]
    },
    {
      "cell_type": "code",
      "metadata": {
        "id": "2rGBiJvPbuHN",
        "colab_type": "code",
        "colab": {
          "base_uri": "https://localhost:8080/",
          "height": 35
        },
        "outputId": "286b13a7-7eb6-4186-9577-309d6bf58dc8"
      },
      "source": [
        "sample = cv.imread('drive/My Drive/Advanced_Assignment_Dataset/up_sad_sunglasses_19.pgm')\n",
        "print(sample.dtype, sample.shape)"
      ],
      "execution_count": null,
      "outputs": [
        {
          "output_type": "stream",
          "text": [
            "uint8 (120, 128, 3)\n"
          ],
          "name": "stdout"
        }
      ]
    },
    {
      "cell_type": "code",
      "metadata": {
        "id": "4VR9r6ptaBSt",
        "colab_type": "code",
        "colab": {
          "base_uri": "https://localhost:8080/",
          "height": 688
        },
        "outputId": "cee62047-c00f-4153-a5d1-b949af3c6561"
      },
      "source": [
        "num_classes1 = len(lookup1)\n",
        "num_classes2 = len(lookup2)\n",
        "num_classes3 = len(lookup3)\n",
        "\n",
        "path = 'drive/My Drive/Advanced_Assignment_Dataset/'\n",
        "\n",
        "image_size = sample.shape\n",
        "h = image_size[1]\n",
        "\n",
        "transform = transforms.Compose([\n",
        "                transforms.Resize((h, h)),\n",
        "                transforms.RandomResizedCrop(size=h, scale=(0.95, 1.05)),\n",
        "                transforms.ColorJitter(),\n",
        "                transforms.ToTensor(), \n",
        "                transforms.Normalize([0.5], [0.5])\n",
        "                ])\n",
        "\n",
        "labels = []\n",
        "image_set = []\n",
        "img = None\n",
        "\n",
        "for j in tqdm(os.listdir('drive/My Drive/Advanced_Assignment_Dataset/')):\n",
        "  img = cv.imread(path+str(j), 0)\n",
        "  img = cv.cvtColor(img, cv.COLOR_GRAY2BGR)\n",
        "  #img = cv.resize(img, (h, h), cv.INTER_AREA)\n",
        "  if len(image_set)%100==0 and len(image_set)>0:\n",
        "      show_img = np.array(img)\n",
        "      show_img = cv.cvtColor(show_img, cv.COLOR_BGR2RGB)\n",
        "      show_img.resize(128, 128, 3)\n",
        "      plt.subplot(2, 3, len(image_set)/100), plt.imshow(show_img), plt.axis('off')\n",
        "  img = Image.fromarray(img)\n",
        "  img = transform(img)\n",
        "  #print(img.shape)\n",
        "\n",
        "  image_set.append(img)\n",
        "  attributes=[]\n",
        "  filename = (str(j).split('.')[0]).split('_')[:3]\n",
        "  attributes.append(lookup1[filename[0]])\n",
        "  attributes.append(lookup2[filename[1]])\n",
        "  attributes.append(lookup3[filename[2]])\n",
        "\n",
        "  labels.append(attributes)\n",
        "  print('.', end=' ')\n",
        "plt.show()\n",
        "#for i in labels:\n",
        "  #print(i)\n",
        "\n",
        "print(len(labels))"
      ],
      "execution_count": null,
      "outputs": [
        {
          "output_type": "stream",
          "text": [
            "\r  0%|          | 0/632 [00:00<?, ?it/s]"
          ],
          "name": "stderr"
        },
        {
          "output_type": "stream",
          "text": [
            ". . . "
          ],
          "name": "stdout"
        },
        {
          "output_type": "stream",
          "text": [
            "\r  4%|▍         | 24/632 [00:00<00:02, 234.06it/s]"
          ],
          "name": "stderr"
        },
        {
          "output_type": "stream",
          "text": [
            ". . . . . . . . . . . . . . . . . . . . . . . . . . . . . . . . . . "
          ],
          "name": "stdout"
        },
        {
          "output_type": "stream",
          "text": [
            "\r  8%|▊         | 48/632 [00:00<00:02, 233.92it/s]"
          ],
          "name": "stderr"
        },
        {
          "output_type": "stream",
          "text": [
            ". . . . . . . . . . . . . . . "
          ],
          "name": "stdout"
        },
        {
          "output_type": "stream",
          "text": [
            "\r 12%|█▏        | 73/632 [00:00<00:02, 236.92it/s]"
          ],
          "name": "stderr"
        },
        {
          "output_type": "stream",
          "text": [
            ". . . . . . . . . . . . . . . . . . . . . . . . . . . . . . . . . . . "
          ],
          "name": "stdout"
        },
        {
          "output_type": "stream",
          "text": [
            "\r 15%|█▌        | 97/632 [00:00<00:02, 236.64it/s]"
          ],
          "name": "stderr"
        },
        {
          "output_type": "stream",
          "text": [
            ". . . . . . . . . . . . . "
          ],
          "name": "stdout"
        },
        {
          "output_type": "stream",
          "text": [
            "\r 19%|█▊        | 117/632 [00:00<00:02, 222.03it/s]"
          ],
          "name": "stderr"
        },
        {
          "output_type": "stream",
          "text": [
            ". . . . . . . . . . . . . . . . . . . . . . . . . . . . . . . "
          ],
          "name": "stdout"
        },
        {
          "output_type": "stream",
          "text": [
            "\r 23%|██▎       | 143/632 [00:00<00:02, 230.49it/s]"
          ],
          "name": "stderr"
        },
        {
          "output_type": "stream",
          "text": [
            ". . . . . . . . . . . . . . . . . . . . "
          ],
          "name": "stdout"
        },
        {
          "output_type": "stream",
          "text": [
            "\r 27%|██▋       | 168/632 [00:00<00:01, 233.97it/s]"
          ],
          "name": "stderr"
        },
        {
          "output_type": "stream",
          "text": [
            ". . . . . . . . . . . . . . . . . . . . . . . . . . . . . "
          ],
          "name": "stdout"
        },
        {
          "output_type": "stream",
          "text": [
            "\r 30%|███       | 191/632 [00:00<00:01, 232.36it/s]"
          ],
          "name": "stderr"
        },
        {
          "output_type": "stream",
          "text": [
            ". . . . . . . . . . . . . . . . . . . "
          ],
          "name": "stdout"
        },
        {
          "output_type": "stream",
          "text": [
            "\r 34%|███▍      | 214/632 [00:00<00:01, 226.80it/s]"
          ],
          "name": "stderr"
        },
        {
          "output_type": "stream",
          "text": [
            ". . . . . . . . . . . . . . . . . . . . . . . . . . . . "
          ],
          "name": "stdout"
        },
        {
          "output_type": "stream",
          "text": [
            "\r 38%|███▊      | 240/632 [00:01<00:01, 235.11it/s]"
          ],
          "name": "stderr"
        },
        {
          "output_type": "stream",
          "text": [
            ". . . . . . . . . . . . . . . . . . . . "
          ],
          "name": "stdout"
        },
        {
          "output_type": "stream",
          "text": [
            "\r 42%|████▏     | 265/632 [00:01<00:01, 235.63it/s]"
          ],
          "name": "stderr"
        },
        {
          "output_type": "stream",
          "text": [
            ". . . . . . . . . . . . . . . . . . . . . . . . . . . . . . . . . . . . . . . . . "
          ],
          "name": "stdout"
        },
        {
          "output_type": "stream",
          "text": [
            "\r 46%|████▌     | 289/632 [00:01<00:01, 228.75it/s]"
          ],
          "name": "stderr"
        },
        {
          "output_type": "stream",
          "text": [
            ". . . . . "
          ],
          "name": "stdout"
        },
        {
          "output_type": "stream",
          "text": [
            "\r 50%|████▉     | 313/632 [00:01<00:01, 229.90it/s]"
          ],
          "name": "stderr"
        },
        {
          "output_type": "stream",
          "text": [
            ". . . . . . . . . . . . . . . . . . . . . . . . . . . . . . . . . . . . . . . . . . . . . "
          ],
          "name": "stdout"
        },
        {
          "output_type": "stream",
          "text": [
            "\r 54%|█████▎    | 339/632 [00:01<00:01, 235.92it/s]"
          ],
          "name": "stderr"
        },
        {
          "output_type": "stream",
          "text": [
            ". . . . "
          ],
          "name": "stdout"
        },
        {
          "output_type": "stream",
          "text": [
            "\r 58%|█████▊    | 365/632 [00:01<00:01, 242.50it/s]"
          ],
          "name": "stderr"
        },
        {
          "output_type": "stream",
          "text": [
            ". . . . . . . . . . . . . . . . . . . . . . . . . . . . . . . . . . . . . . . . . . . . . . . "
          ],
          "name": "stdout"
        },
        {
          "output_type": "stream",
          "text": [
            "\r 62%|██████▏   | 390/632 [00:01<00:01, 241.65it/s]"
          ],
          "name": "stderr"
        },
        {
          "output_type": "stream",
          "text": [
            ". . . . "
          ],
          "name": "stdout"
        },
        {
          "output_type": "stream",
          "text": [
            "\r 66%|██████▌   | 415/632 [00:01<00:00, 233.89it/s]"
          ],
          "name": "stderr"
        },
        {
          "output_type": "stream",
          "text": [
            ". . . . . . . . . . . . . . . . . . . . . . . . . . . . . . . . . . . . . . . . . . . "
          ],
          "name": "stdout"
        },
        {
          "output_type": "stream",
          "text": [
            "\r 70%|██████▉   | 440/632 [00:01<00:00, 237.60it/s]"
          ],
          "name": "stderr"
        },
        {
          "output_type": "stream",
          "text": [
            ". . . . "
          ],
          "name": "stdout"
        },
        {
          "output_type": "stream",
          "text": [
            "\r 74%|███████▍  | 467/632 [00:01<00:00, 245.79it/s]"
          ],
          "name": "stderr"
        },
        {
          "output_type": "stream",
          "text": [
            ". . . . . . . . . . . . . . . . . . . . . . . . . . . . . . . . . . . . . . . . . . . . . . . . "
          ],
          "name": "stdout"
        },
        {
          "output_type": "stream",
          "text": [
            "\r 78%|███████▊  | 492/632 [00:02<00:00, 246.02it/s]"
          ],
          "name": "stderr"
        },
        {
          "output_type": "stream",
          "text": [
            ". . . . . "
          ],
          "name": "stdout"
        },
        {
          "output_type": "stream",
          "text": [
            "\r 82%|████████▏ | 517/632 [00:02<00:00, 240.66it/s]"
          ],
          "name": "stderr"
        },
        {
          "output_type": "stream",
          "text": [
            ". . . . . . . . . . . . . . . . . . . . . . . . . . . . . . . . . . . . . . . . . . . . . . "
          ],
          "name": "stdout"
        },
        {
          "output_type": "stream",
          "text": [
            " 90%|█████████ | 569/632 [00:02<00:00, 242.92it/s]"
          ],
          "name": "stderr"
        },
        {
          "output_type": "stream",
          "text": [
            ". . . . . . . . . . . . . . . . . . . . . . . . . . . . . . . . . . . . . . . . . . . . . . . . . . . "
          ],
          "name": "stdout"
        },
        {
          "output_type": "stream",
          "text": [
            "\r 94%|█████████▍| 594/632 [00:02<00:00, 238.83it/s]"
          ],
          "name": "stderr"
        },
        {
          "output_type": "stream",
          "text": [
            ". . . . . . . . . . . . . . . . . . . . . . . . . . "
          ],
          "name": "stdout"
        },
        {
          "output_type": "stream",
          "text": [
            "\r 98%|█████████▊| 618/632 [00:02<00:00, 231.53it/s]"
          ],
          "name": "stderr"
        },
        {
          "output_type": "stream",
          "text": [
            ". . . . . . . . . . . . . . "
          ],
          "name": "stdout"
        },
        {
          "output_type": "stream",
          "text": [
            "\r100%|██████████| 632/632 [00:02<00:00, 236.00it/s]"
          ],
          "name": "stderr"
        },
        {
          "output_type": "stream",
          "text": [
            ". . "
          ],
          "name": "stdout"
        },
        {
          "output_type": "stream",
          "text": [
            "\n"
          ],
          "name": "stderr"
        },
        {
          "output_type": "display_data",
          "data": {
            "image/png": "[encoded data removed]",
            "text/plain": [
              "<Figure size 432x288 with 6 Axes>"
            ]
          },
          "metadata": {
            "tags": [],
            "needs_background": "light"
          }
        },
        {
          "output_type": "stream",
          "text": [
            "632\n"
          ],
          "name": "stdout"
        }
      ]
    },
    {
      "cell_type": "code",
      "metadata": {
        "id": "rB9wczGAhDBK",
        "colab_type": "code",
        "colab": {
          "base_uri": "https://localhost:8080/",
          "height": 422
        },
        "outputId": "95e4bff0-00e3-4060-c6aa-e3c5725939f1"
      },
      "source": [
        "class GestureDataset(Dataset):\n",
        "    \"\"\"Dynamic Gesture dataset.\"\"\"\n",
        "\n",
        "    def __init__(self, images, labels, num_classes1=4, num_classes2=4, num_classes3=2):\n",
        "\n",
        "        self.images = images\n",
        "        self.labels = labels\n",
        "        self.num_classes1 = num_classes1\n",
        "        self.num_classes2 = num_classes2\n",
        "        self.num_classes3 = num_classes3\n",
        "        #self.transform = transform\n",
        "\n",
        "    def __len__(self):\n",
        "        return len(self.labels)\n",
        "\n",
        "    def __getitem__(self, idx):\n",
        "        image = self.images[idx]\n",
        "        label = np.array(self.labels[idx])\n",
        "\n",
        "        return (image, label)\n",
        "\n",
        "dataset = GestureDataset(image_set, labels)\n",
        "print(dataset[0], dataset[0][0].shape)\n"
      ],
      "execution_count": null,
      "outputs": [
        {
          "output_type": "stream",
          "text": [
            "(tensor([[[-0.5137, -0.4980, -0.4824,  ..., -0.4196, -0.4039, -0.4039],\n",
            "         [-0.5059, -0.4980, -0.4824,  ..., -0.4196, -0.4039, -0.4039],\n",
            "         [-0.4980, -0.4902, -0.4824,  ..., -0.4118, -0.4039, -0.4039],\n",
            "         ...,\n",
            "         [-0.5451, -0.7333, -0.8745,  ..., -1.0000, -1.0000, -1.0000],\n",
            "         [-0.5137, -0.7176, -0.7961,  ..., -0.9686, -0.9765, -0.9843],\n",
            "         [-0.5373, -0.7176, -0.7569,  ..., -0.7804, -0.8196, -0.8745]],\n",
            "\n",
            "        [[-0.5137, -0.4980, -0.4824,  ..., -0.4196, -0.4039, -0.4039],\n",
            "         [-0.5059, -0.4980, -0.4824,  ..., -0.4196, -0.4039, -0.4039],\n",
            "         [-0.4980, -0.4902, -0.4824,  ..., -0.4118, -0.4039, -0.4039],\n",
            "         ...,\n",
            "         [-0.5451, -0.7333, -0.8745,  ..., -1.0000, -1.0000, -1.0000],\n",
            "         [-0.5137, -0.7176, -0.7961,  ..., -0.9686, -0.9765, -0.9843],\n",
            "         [-0.5373, -0.7176, -0.7569,  ..., -0.7804, -0.8196, -0.8745]],\n",
            "\n",
            "        [[-0.5137, -0.4980, -0.4824,  ..., -0.4196, -0.4039, -0.4039],\n",
            "         [-0.5059, -0.4980, -0.4824,  ..., -0.4196, -0.4039, -0.4039],\n",
            "         [-0.4980, -0.4902, -0.4824,  ..., -0.4118, -0.4039, -0.4039],\n",
            "         ...,\n",
            "         [-0.5451, -0.7333, -0.8745,  ..., -1.0000, -1.0000, -1.0000],\n",
            "         [-0.5137, -0.7176, -0.7961,  ..., -0.9686, -0.9765, -0.9843],\n",
            "         [-0.5373, -0.7176, -0.7569,  ..., -0.7804, -0.8196, -0.8745]]]), array([0, 0, 0])) torch.Size([3, 128, 128])\n"
          ],
          "name": "stdout"
        }
      ]
    },
    {
      "cell_type": "code",
      "metadata": {
        "id": "zJjInoAdhDEG",
        "colab_type": "code",
        "colab": {
          "base_uri": "https://localhost:8080/",
          "height": 52
        },
        "outputId": "9a1ec1e8-d793-4641-8d80-49c78236369b"
      },
      "source": [
        "random_seed = random.randint(1, 100)\n",
        "batch = 4\n",
        "\n",
        "dataset_size = len(dataset)\n",
        "split = int(0.05*dataset_size)\n",
        "print('Size of dataset is: ', dataset_size)\n",
        "print('Split values are: ', split, split)\n",
        "indices = list(range(dataset_size))\n",
        "\n",
        "np.random.seed(random_seed)\n",
        "np.random.shuffle(indices)\n",
        "\n",
        "train_indices, val_indices, test_indices = indices[split*2:], indices[:split], indices[split:split*2]\n",
        "\n",
        "# Creating PT data samplers and loaders:\n",
        "train_sampler = SubsetRandomSampler(train_indices)\n",
        "valid_sampler = SubsetRandomSampler(val_indices)\n",
        "test_sampler = SubsetRandomSampler(test_indices)\n",
        "\n",
        "train_loader = torch.utils.data.DataLoader(dataset, batch_size=batch, sampler=train_sampler,\n",
        "                                            num_workers = 2)\n",
        "valid_loader = torch.utils.data.DataLoader(dataset, batch_size=batch, sampler=valid_sampler,\n",
        "                                            num_workers = 2)\n",
        "test_loader = torch.utils.data.DataLoader(dataset, batch_size=batch, sampler=test_sampler,\n",
        "                                            num_workers = 2)\n",
        "\n"
      ],
      "execution_count": null,
      "outputs": [
        {
          "output_type": "stream",
          "text": [
            "Size of dataset is:  632\n",
            "Split values are:  31 31\n"
          ],
          "name": "stdout"
        }
      ]
    },
    {
      "cell_type": "code",
      "metadata": {
        "id": "nZp8GkWwhDGi",
        "colab_type": "code",
        "colab": {
          "base_uri": "https://localhost:8080/",
          "height": 123
        },
        "outputId": "a8703ba3-b91e-4b74-e939-9b480edda890"
      },
      "source": [
        "'''class MultiClassifier(nn.Module):\n",
        "  def __init__(self):\n",
        "    super(MultiClassifier, self).__init__()\n",
        "    self.ConvLayer1 = nn.Sequential(\n",
        "      nn.Conv2d(3, 64, kernel_size = 3, stride = 1, padding = 1), # 3, 128, 128\n",
        "      nn.ReLU(), # op: 64, 128, 128\n",
        "    )\n",
        "    self.ConvLayer2 = nn.Sequential(\n",
        "      nn.Conv2d(64, 128, kernel_size = 3, stride = 1, padding = 1), # 128, 128, 128\n",
        "      nn.MaxPool2d(kernel_size = 2, stride = 2), #op: 128, 64, 64\n",
        "      nn.ReLU() # op: 128, 64, 64\n",
        "    )\n",
        "    self.ConvLayer3 = nn.Sequential(\n",
        "      nn.Conv2d(128, 128, kernel_size = 3, stride = 1, padding = 1), # 256, 64, 64\n",
        "      nn.ReLU() #op: 256, 64, 64\n",
        "    )\n",
        "    self.ConvLayer4 = nn.Sequential(\n",
        "      nn.Conv2d(128, 256, kernel_size = 3, stride = 1, padding = 1), # 256, 64, 64\n",
        "      nn.MaxPool2d(kernel_size = 2, stride = 2), #op: 256, 32, 32\n",
        "      nn.ReLU() #op: 256, 32, 32\n",
        "    )\n",
        "    self.ConvLayer6 = nn.Sequential(\n",
        "      nn.Conv2d(256, 512, kernel_size = 5, stride = 1, padding = 2), # 512, 32, 32\n",
        "      nn.MaxPool2d(kernel_size = 2, stride = 2), #op: 512, 16, 16\n",
        "      nn.ReLU(), #op: 512, 16, 16\n",
        "      nn.Dropout(0.2)\n",
        "    )\n",
        "    self.Linear1 = nn.Linear(512 * 16 * 16, 512)\n",
        "    self.drop1 = nn.Dropout(0.25)\n",
        "    self.Linear2 = nn.Linear(512, 3)\n",
        "  def forward(self, x):\n",
        "    x = self.ConvLayer1(x)\n",
        "    x = self.ConvLayer2(x)\n",
        "    x = self.ConvLayer3(x)\n",
        "    x = self.ConvLayer4(x)\n",
        "    #x = self.ConvLayer5(x)\n",
        "    x = self.ConvLayer6(x)\n",
        "    \n",
        "    x = x.view(x.size(0), -1)\n",
        "    x = self.Linear1(x)\n",
        "    x = self.drop1(x)\n",
        "    #x = self.Linear2(x)\n",
        "    x = self.Linear2(x)\n",
        "    return F.sigmoid(x)'''"
      ],
      "execution_count": null,
      "outputs": [
        {
          "output_type": "execute_result",
          "data": {
            "application/vnd.google.colaboratory.intrinsic+json": {
              "type": "string"
            },
            "text/plain": [
              "'class MultiClassifier(nn.Module):\\n  def __init__(self):\\n    super(MultiClassifier, self).__init__()\\n    self.ConvLayer1 = nn.Sequential(\\n      nn.Conv2d(3, 64, kernel_size = 3, stride = 1, padding = 1), # 3, 128, 128\\n      nn.ReLU(), # op: 64, 128, 128\\n    )\\n    self.ConvLayer2 = nn.Sequential(\\n      nn.Conv2d(64, 128, kernel_size = 3, stride = 1, padding = 1), # 128, 128, 128\\n      nn.MaxPool2d(kernel_size = 2, stride = 2), #op: 128, 64, 64\\n      nn.ReLU() # op: 128, 64, 64\\n    )\\n    self.ConvLayer3 = nn.Sequential(\\n      nn.Conv2d(128, 128, kernel_size = 3, stride = 1, padding = 1), # 256, 64, 64\\n      nn.ReLU() #op: 256, 64, 64\\n    )\\n    self.ConvLayer4 = nn.Sequential(\\n      nn.Conv2d(128, 256, kernel_size = 3, stride = 1, padding = 1), # 256, 64, 64\\n      nn.MaxPool2d(kernel_size = 2, stride = 2), #op: 256, 32, 32\\n      nn.ReLU() #op: 256, 32, 32\\n    )\\n    self.ConvLayer6 = nn.Sequential(\\n      nn.Conv2d(256, 512, kernel_size = 5, stride = 1, padding = 2), # 512, 32, 32\\n      nn.MaxPool2d(kernel_size = 2, stride = 2), #op: 512, 16, 16\\n      nn.ReLU(), #op: 512, 16, 16\\n      nn.Dropout(0.2)\\n    )\\n    self.Linear1 = nn.Linear(512 * 16 * 16, 512)\\n    self.drop1 = nn.Dropout(0.25)\\n    self.Linear2 = nn.Linear(512, 3)\\n  def forward(self, x):\\n    x = self.ConvLayer1(x)\\n    x = self.ConvLayer2(x)\\n    x = self.ConvLayer3(x)\\n    x = self.ConvLayer4(x)\\n    #x = self.ConvLayer5(x)\\n    x = self.ConvLayer6(x)\\n    \\n    x = x.view(x.size(0), -1)\\n    x = self.Linear1(x)\\n    x = self.drop1(x)\\n    #x = self.Linear2(x)\\n    x = self.Linear2(x)\\n    return F.sigmoid(x)'"
            ]
          },
          "metadata": {
            "tags": []
          },
          "execution_count": 9
        }
      ]
    },
    {
      "cell_type": "code",
      "metadata": {
        "id": "Od8FtGBO3f-a",
        "colab_type": "code",
        "colab": {
          "base_uri": "https://localhost:8080/",
          "height": 950
        },
        "outputId": "06d7f520-bdd5-47fa-823b-3227c8e9828b"
      },
      "source": [
        "from torchvision import models\n",
        "model1 = models.vgg16(pretrained=True)\n",
        "for param in model1.parameters():\n",
        "    param.requires_grad = False\n",
        "\n",
        "model1.classifier[6] = nn.Sequential(\n",
        "                      nn.Linear(4096, 512), \n",
        "                      nn.ReLU(), \n",
        "                      nn.Linear(512, 128), \n",
        "                      nn.ReLU(),\n",
        "                      nn.Dropout(0.2), \n",
        "                      nn.Linear(128, num_classes1),                   \n",
        "                      nn.LogSoftmax(dim=1))\n",
        "\n",
        "print(model1)\n",
        "\n",
        "loss_func1 = F.cross_entropy\n",
        "\n",
        "model1.float()\n",
        "model1.to(device)\n",
        "optimizer1 = optim.Adam(model1.parameters(), betas=(0.9, 0.999), lr = 0.001)\n",
        "#print(model1)"
      ],
      "execution_count": null,
      "outputs": [
        {
          "output_type": "stream",
          "text": [
            "VGG(\n",
            "  (features): Sequential(\n",
            "    (0): Conv2d(3, 64, kernel_size=(3, 3), stride=(1, 1), padding=(1, 1))\n",
            "    (1): ReLU(inplace=True)\n",
            "    (2): Conv2d(64, 64, kernel_size=(3, 3), stride=(1, 1), padding=(1, 1))\n",
            "    (3): ReLU(inplace=True)\n",
            "    (4): MaxPool2d(kernel_size=2, stride=2, padding=0, dilation=1, ceil_mode=False)\n",
            "    (5): Conv2d(64, 128, kernel_size=(3, 3), stride=(1, 1), padding=(1, 1))\n",
            "    (6): ReLU(inplace=True)\n",
            "    (7): Conv2d(128, 128, kernel_size=(3, 3), stride=(1, 1), padding=(1, 1))\n",
            "    (8): ReLU(inplace=True)\n",
            "    (9): MaxPool2d(kernel_size=2, stride=2, padding=0, dilation=1, ceil_mode=False)\n",
            "    (10): Conv2d(128, 256, kernel_size=(3, 3), stride=(1, 1), padding=(1, 1))\n",
            "    (11): ReLU(inplace=True)\n",
            "    (12): Conv2d(256, 256, kernel_size=(3, 3), stride=(1, 1), padding=(1, 1))\n",
            "    (13): ReLU(inplace=True)\n",
            "    (14): Conv2d(256, 256, kernel_size=(3, 3), stride=(1, 1), padding=(1, 1))\n",
            "    (15): ReLU(inplace=True)\n",
            "    (16): MaxPool2d(kernel_size=2, stride=2, padding=0, dilation=1, ceil_mode=False)\n",
            "    (17): Conv2d(256, 512, kernel_size=(3, 3), stride=(1, 1), padding=(1, 1))\n",
            "    (18): ReLU(inplace=True)\n",
            "    (19): Conv2d(512, 512, kernel_size=(3, 3), stride=(1, 1), padding=(1, 1))\n",
            "    (20): ReLU(inplace=True)\n",
            "    (21): Conv2d(512, 512, kernel_size=(3, 3), stride=(1, 1), padding=(1, 1))\n",
            "    (22): ReLU(inplace=True)\n",
            "    (23): MaxPool2d(kernel_size=2, stride=2, padding=0, dilation=1, ceil_mode=False)\n",
            "    (24): Conv2d(512, 512, kernel_size=(3, 3), stride=(1, 1), padding=(1, 1))\n",
            "    (25): ReLU(inplace=True)\n",
            "    (26): Conv2d(512, 512, kernel_size=(3, 3), stride=(1, 1), padding=(1, 1))\n",
            "    (27): ReLU(inplace=True)\n",
            "    (28): Conv2d(512, 512, kernel_size=(3, 3), stride=(1, 1), padding=(1, 1))\n",
            "    (29): ReLU(inplace=True)\n",
            "    (30): MaxPool2d(kernel_size=2, stride=2, padding=0, dilation=1, ceil_mode=False)\n",
            "  )\n",
            "  (avgpool): AdaptiveAvgPool2d(output_size=(7, 7))\n",
            "  (classifier): Sequential(\n",
            "    (0): Linear(in_features=25088, out_features=4096, bias=True)\n",
            "    (1): ReLU(inplace=True)\n",
            "    (2): Dropout(p=0.5, inplace=False)\n",
            "    (3): Linear(in_features=4096, out_features=4096, bias=True)\n",
            "    (4): ReLU(inplace=True)\n",
            "    (5): Dropout(p=0.5, inplace=False)\n",
            "    (6): Sequential(\n",
            "      (0): Linear(in_features=4096, out_features=512, bias=True)\n",
            "      (1): ReLU()\n",
            "      (2): Linear(in_features=512, out_features=128, bias=True)\n",
            "      (3): ReLU()\n",
            "      (4): Dropout(p=0.2, inplace=False)\n",
            "      (5): Linear(in_features=128, out_features=4, bias=True)\n",
            "      (6): LogSoftmax()\n",
            "    )\n",
            "  )\n",
            ")\n"
          ],
          "name": "stdout"
        }
      ]
    },
    {
      "cell_type": "code",
      "metadata": {
        "id": "NglEsM_6AceG",
        "colab_type": "code",
        "colab": {
          "base_uri": "https://localhost:8080/",
          "height": 52
        },
        "outputId": "6ca63c59-74b5-4d55-cff7-afc78f1a3da3"
      },
      "source": [
        "total_params1 = sum(p.numel() for p in model1.parameters())\n",
        "\n",
        "print(f'{total_params1:,} total parameters')\n",
        "\n",
        "total_trainable1 = sum(p.numel() for p in model1.parameters() if p.requires_grad)\n",
        "\n",
        "print(f'{total_trainable1:,} trainable parameters.')"
      ],
      "execution_count": null,
      "outputs": [
        {
          "output_type": "stream",
          "text": [
            "136,424,388 total parameters\n",
            "2,163,844 trainable parameters.\n"
          ],
          "name": "stdout"
        }
      ]
    },
    {
      "cell_type": "code",
      "metadata": {
        "id": "jn06wLA9-gAW",
        "colab_type": "code",
        "colab": {}
      },
      "source": [
        "from torchvision import models\n",
        "model2 = models.resnet101(pretrained=True)\n",
        "#print(model2)\n",
        "\n",
        "for param in model2.parameters():\n",
        "  param.requires_grad = False\n",
        "\n",
        "for param in model2.layer4.parameters():\n",
        "  param.requires_grad = True\n",
        "\n",
        "#print(model2)\n",
        "\n",
        "model2.fc = nn.Sequential(\n",
        "                      nn.Linear(2048, 512), \n",
        "                      nn.ReLU(), \n",
        "                      nn.Dropout(0.5), \n",
        "                      nn.Linear(512, 128), \n",
        "                      nn.ReLU(),\n",
        "                      nn.Dropout(0.5),\n",
        "                      nn.Linear(128, num_classes2),                   \n",
        "                      nn.Softmax(dim=1))\n",
        "\n",
        "\n",
        "loss_func2 = F.cross_entropy \n",
        "\n",
        "model2.float()\n",
        "model2.to(device)\n",
        "optimizer2 = optim.Adam(model2.parameters(), betas=(0.6, 0.9), lr = 0.0001)\n",
        "#optimizer2 = optim.SGD(model2.parameters(), lr=0.0001, momentum=0.9, weight_decay=5e-4)\n",
        "#print(model2)"
      ],
      "execution_count": null,
      "outputs": []
    },
    {
      "cell_type": "code",
      "metadata": {
        "id": "VStnQ-M4Albw",
        "colab_type": "code",
        "colab": {
          "base_uri": "https://localhost:8080/",
          "height": 52
        },
        "outputId": "1cde2480-7f14-4926-ab6c-c8934564e30f"
      },
      "source": [
        "total_params2 = sum(p.numel() for p in model2.parameters())\n",
        "\n",
        "print(f'{total_params2:,} total parameters')\n",
        "\n",
        "total_trainable2 = sum(p.numel() for p in model2.parameters() if p.requires_grad)\n",
        "\n",
        "print(f'{total_trainable2:,} trainable parameters.')"
      ],
      "execution_count": null,
      "outputs": [
        {
          "output_type": "stream",
          "text": [
            "43,615,428 total parameters\n",
            "16,080,004 trainable parameters.\n"
          ],
          "name": "stdout"
        }
      ]
    },
    {
      "cell_type": "code",
      "metadata": {
        "id": "DWJXLflW-gEA",
        "colab_type": "code",
        "colab": {
          "base_uri": "https://localhost:8080/",
          "height": 1000
        },
        "outputId": "efe694b0-5a42-46f4-8516-4415b3597a6b"
      },
      "source": [
        "from torchvision import models\n",
        "model3 = models.resnet18(pretrained=True)\n",
        "for param in model3.parameters():\n",
        "    param.requires_grad = False\n",
        "\n",
        "print(model3)\n",
        "\n",
        "model3.fc = nn.Sequential(\n",
        "                      nn.Linear(512, 512), \n",
        "                      nn.ReLU(), \n",
        "                      nn.Linear(512, 128), \n",
        "                      nn.ReLU(),\n",
        "                      nn.Dropout(0.2), \n",
        "                      nn.Linear(128, num_classes3),                   \n",
        "                      nn.LogSoftmax(dim=1))\n",
        "\n",
        "\n",
        "loss_func3 = F.cross_entropy \n",
        "\n",
        "model3.float()\n",
        "model3.to(device)\n",
        "optimizer3 = optim.Adam(model3.parameters(), betas=(0.9, 0.999), lr = 0.001)\n",
        "#print(model3)"
      ],
      "execution_count": null,
      "outputs": [
        {
          "output_type": "stream",
          "text": [
            "ResNet(\n",
            "  (conv1): Conv2d(3, 64, kernel_size=(7, 7), stride=(2, 2), padding=(3, 3), bias=False)\n",
            "  (bn1): BatchNorm2d(64, eps=1e-05, momentum=0.1, affine=True, track_running_stats=True)\n",
            "  (relu): ReLU(inplace=True)\n",
            "  (maxpool): MaxPool2d(kernel_size=3, stride=2, padding=1, dilation=1, ceil_mode=False)\n",
            "  (layer1): Sequential(\n",
            "    (0): BasicBlock(\n",
            "      (conv1): Conv2d(64, 64, kernel_size=(3, 3), stride=(1, 1), padding=(1, 1), bias=False)\n",
            "      (bn1): BatchNorm2d(64, eps=1e-05, momentum=0.1, affine=True, track_running_stats=True)\n",
            "      (relu): ReLU(inplace=True)\n",
            "      (conv2): Conv2d(64, 64, kernel_size=(3, 3), stride=(1, 1), padding=(1, 1), bias=False)\n",
            "      (bn2): BatchNorm2d(64, eps=1e-05, momentum=0.1, affine=True, track_running_stats=True)\n",
            "    )\n",
            "    (1): BasicBlock(\n",
            "      (conv1): Conv2d(64, 64, kernel_size=(3, 3), stride=(1, 1), padding=(1, 1), bias=False)\n",
            "      (bn1): BatchNorm2d(64, eps=1e-05, momentum=0.1, affine=True, track_running_stats=True)\n",
            "      (relu): ReLU(inplace=True)\n",
            "      (conv2): Conv2d(64, 64, kernel_size=(3, 3), stride=(1, 1), padding=(1, 1), bias=False)\n",
            "      (bn2): BatchNorm2d(64, eps=1e-05, momentum=0.1, affine=True, track_running_stats=True)\n",
            "    )\n",
            "  )\n",
            "  (layer2): Sequential(\n",
            "    (0): BasicBlock(\n",
            "      (conv1): Conv2d(64, 128, kernel_size=(3, 3), stride=(2, 2), padding=(1, 1), bias=False)\n",
            "      (bn1): BatchNorm2d(128, eps=1e-05, momentum=0.1, affine=True, track_running_stats=True)\n",
            "      (relu): ReLU(inplace=True)\n",
            "      (conv2): Conv2d(128, 128, kernel_size=(3, 3), stride=(1, 1), padding=(1, 1), bias=False)\n",
            "      (bn2): BatchNorm2d(128, eps=1e-05, momentum=0.1, affine=True, track_running_stats=True)\n",
            "      (downsample): Sequential(\n",
            "        (0): Conv2d(64, 128, kernel_size=(1, 1), stride=(2, 2), bias=False)\n",
            "        (1): BatchNorm2d(128, eps=1e-05, momentum=0.1, affine=True, track_running_stats=True)\n",
            "      )\n",
            "    )\n",
            "    (1): BasicBlock(\n",
            "      (conv1): Conv2d(128, 128, kernel_size=(3, 3), stride=(1, 1), padding=(1, 1), bias=False)\n",
            "      (bn1): BatchNorm2d(128, eps=1e-05, momentum=0.1, affine=True, track_running_stats=True)\n",
            "      (relu): ReLU(inplace=True)\n",
            "      (conv2): Conv2d(128, 128, kernel_size=(3, 3), stride=(1, 1), padding=(1, 1), bias=False)\n",
            "      (bn2): BatchNorm2d(128, eps=1e-05, momentum=0.1, affine=True, track_running_stats=True)\n",
            "    )\n",
            "  )\n",
            "  (layer3): Sequential(\n",
            "    (0): BasicBlock(\n",
            "      (conv1): Conv2d(128, 256, kernel_size=(3, 3), stride=(2, 2), padding=(1, 1), bias=False)\n",
            "      (bn1): BatchNorm2d(256, eps=1e-05, momentum=0.1, affine=True, track_running_stats=True)\n",
            "      (relu): ReLU(inplace=True)\n",
            "      (conv2): Conv2d(256, 256, kernel_size=(3, 3), stride=(1, 1), padding=(1, 1), bias=False)\n",
            "      (bn2): BatchNorm2d(256, eps=1e-05, momentum=0.1, affine=True, track_running_stats=True)\n",
            "      (downsample): Sequential(\n",
            "        (0): Conv2d(128, 256, kernel_size=(1, 1), stride=(2, 2), bias=False)\n",
            "        (1): BatchNorm2d(256, eps=1e-05, momentum=0.1, affine=True, track_running_stats=True)\n",
            "      )\n",
            "    )\n",
            "    (1): BasicBlock(\n",
            "      (conv1): Conv2d(256, 256, kernel_size=(3, 3), stride=(1, 1), padding=(1, 1), bias=False)\n",
            "      (bn1): BatchNorm2d(256, eps=1e-05, momentum=0.1, affine=True, track_running_stats=True)\n",
            "      (relu): ReLU(inplace=True)\n",
            "      (conv2): Conv2d(256, 256, kernel_size=(3, 3), stride=(1, 1), padding=(1, 1), bias=False)\n",
            "      (bn2): BatchNorm2d(256, eps=1e-05, momentum=0.1, affine=True, track_running_stats=True)\n",
            "    )\n",
            "  )\n",
            "  (layer4): Sequential(\n",
            "    (0): BasicBlock(\n",
            "      (conv1): Conv2d(256, 512, kernel_size=(3, 3), stride=(2, 2), padding=(1, 1), bias=False)\n",
            "      (bn1): BatchNorm2d(512, eps=1e-05, momentum=0.1, affine=True, track_running_stats=True)\n",
            "      (relu): ReLU(inplace=True)\n",
            "      (conv2): Conv2d(512, 512, kernel_size=(3, 3), stride=(1, 1), padding=(1, 1), bias=False)\n",
            "      (bn2): BatchNorm2d(512, eps=1e-05, momentum=0.1, affine=True, track_running_stats=True)\n",
            "      (downsample): Sequential(\n",
            "        (0): Conv2d(256, 512, kernel_size=(1, 1), stride=(2, 2), bias=False)\n",
            "        (1): BatchNorm2d(512, eps=1e-05, momentum=0.1, affine=True, track_running_stats=True)\n",
            "      )\n",
            "    )\n",
            "    (1): BasicBlock(\n",
            "      (conv1): Conv2d(512, 512, kernel_size=(3, 3), stride=(1, 1), padding=(1, 1), bias=False)\n",
            "      (bn1): BatchNorm2d(512, eps=1e-05, momentum=0.1, affine=True, track_running_stats=True)\n",
            "      (relu): ReLU(inplace=True)\n",
            "      (conv2): Conv2d(512, 512, kernel_size=(3, 3), stride=(1, 1), padding=(1, 1), bias=False)\n",
            "      (bn2): BatchNorm2d(512, eps=1e-05, momentum=0.1, affine=True, track_running_stats=True)\n",
            "    )\n",
            "  )\n",
            "  (avgpool): AdaptiveAvgPool2d(output_size=(1, 1))\n",
            "  (fc): Linear(in_features=512, out_features=1000, bias=True)\n",
            ")\n"
          ],
          "name": "stdout"
        }
      ]
    },
    {
      "cell_type": "code",
      "metadata": {
        "id": "5jTkNmktAtk_",
        "colab_type": "code",
        "colab": {
          "base_uri": "https://localhost:8080/",
          "height": 52
        },
        "outputId": "06464a8c-08ae-4af1-d96d-518f41d0c878"
      },
      "source": [
        "total_params3 = sum(p.numel() for p in model3.parameters())\n",
        "\n",
        "print(f'{total_params3:,} total parameters')\n",
        "\n",
        "total_trainable3 = sum(p.numel() for p in model3.parameters() if p.requires_grad)\n",
        "\n",
        "print(f'{total_trainable3:,} trainable parameters.')"
      ],
      "execution_count": null,
      "outputs": [
        {
          "output_type": "stream",
          "text": [
            "11,505,090 total parameters\n",
            "328,578 trainable parameters.\n"
          ],
          "name": "stdout"
        }
      ]
    },
    {
      "cell_type": "code",
      "metadata": {
        "id": "NFOiTtric0ty",
        "colab_type": "code",
        "colab": {}
      },
      "source": [
        "def accuracy(out, yb):\n",
        "    pred = torch.argmax(out, keepdim= False, dim=1)\n",
        "    return (pred == yb).float().mean() \n",
        "\n",
        "def accuracy2(pred, yb):\n",
        "    #pred = torch.argmax(out, keepdim= False, dim=1)\n",
        "    return (pred == yb).float().mean() "
      ],
      "execution_count": null,
      "outputs": []
    },
    {
      "cell_type": "code",
      "metadata": {
        "id": "TVooCwLOB8Wf",
        "colab_type": "code",
        "colab": {}
      },
      "source": [
        "def fit(model1, model2, model3, epochs, train_loader, valid_loader, opt1, opt2, opt3):\n",
        "    losses = []\n",
        "    losses_valid = []\n",
        "    \n",
        "    for epoch in range(epochs):\n",
        "        train_loss =0\n",
        "        train_acc1, train_acc2, train_acc3 = 0, 0, 0\n",
        "        model1.train()\n",
        "        model2.train()\n",
        "        model3.train()\n",
        "        tot_loss1, tot_loss2, tot_loss3 = 0, 0, 0\n",
        "        for xb, yb in train_loader:\n",
        "            xb = xb.to(device)\n",
        "            yb = yb.to(device)\n",
        "            pred1 = model1(xb.float())\n",
        "            #pred1 = torch.argmax(pred1, keepdim= False, dim=1)\n",
        "            pred1.to(device)\n",
        "            pred2 = model2(xb.float())\n",
        "            #pred2 = torch.argmax(pred2, keepdim= False, dim=1)\n",
        "            pred2.to(device)\n",
        "            pred3 = model3(xb.float())\n",
        "            #pred3 = torch.argmax(pred3, keepdim= False, dim=1)\n",
        "            pred3.to(device)\n",
        "            \n",
        "            #print(pred1.dtype, yb[0].dtype, pred3.shape)\n",
        "            train_acc1 += accuracy(pred1, yb[:,0])\n",
        "            train_acc2 += accuracy(pred2, yb[:,1])\n",
        "            train_acc3 += accuracy(pred3, yb[:,2])\n",
        "            loss1 = loss_func1(pred1, yb[:,0])\n",
        "            loss2 = loss_func2(pred2, yb[:,1])\n",
        "            loss3 = loss_func3(pred3, yb[:,2])\n",
        "            train_loss += loss1+loss2+loss3\n",
        "            tot_loss1 += loss1\n",
        "            tot_loss2 += loss2\n",
        "            tot_loss3 += loss3\n",
        "            #back propogation\n",
        "            loss1.backward()\n",
        "            opt1.step()\n",
        "            opt1.zero_grad() \n",
        "\n",
        "            loss2.backward()\n",
        "            opt2.step()\n",
        "            opt2.zero_grad() \n",
        "\n",
        "            loss3.backward()\n",
        "            opt3.step()\n",
        "            opt3.zero_grad()      \n",
        "\n",
        "        losses.append(train_loss/len(train_loader))\n",
        "        print(\"Iteration no: \"+ str(epoch), '\\n', \"Training  loss = \"+str(losses[epoch].item()*len(train_loader)))\n",
        "        print(\"Accuracies on training set:\", train_acc1/len(train_loader), train_acc2/len(train_loader), train_acc3/len(train_loader), )\n",
        "        lr_scheduler1.step(tot_loss1/len(train_loader))\n",
        "        lr_scheduler2.step(tot_loss2/len(train_loader))\n",
        "        lr_scheduler3.step(tot_loss3/len(train_loader))\n",
        "        \n",
        "        \n",
        "        model1.eval()    \n",
        "        model2.eval()    \n",
        "        model3.eval()    \n",
        "        with torch.no_grad():\n",
        "            valid_acc1, valid_acc2, valid_acc3 = 0, 0, 0\n",
        "            loss_valid = 0\n",
        "            for xb_valid, yb_valid in valid_loader:\n",
        "                xb_valid = xb_valid.to(device)\n",
        "                yb_valid = yb_valid.to(device)\n",
        "                pred_valid1 = model1(xb_valid.float())\n",
        "                pred_valid1.to(device)\n",
        "                pred_valid2 = model2(xb_valid.float())\n",
        "                pred_valid2.to(device)\n",
        "                pred_valid3 = model3(xb_valid.float())\n",
        "                pred_valid3.to(device)\n",
        "                valid_acc1 += accuracy(pred_valid1, yb_valid[:,0])\n",
        "                valid_acc2 += accuracy(pred_valid2, yb_valid[:,1])\n",
        "                valid_acc3 += accuracy(pred_valid3, yb_valid[:,2])\n",
        "                loss_valid += loss_func1(pred_valid1, yb_valid[:,0]) + loss_func2(pred_valid2, yb_valid[:,1]) + loss_func3(pred_valid3, yb_valid[:,2])\n",
        "            losses_valid.append(loss_valid/len(valid_loader))\n",
        "            print(\"Validation loss = \"+str(losses_valid[epoch].item()*len(valid_loader)))\n",
        "            print(\"Accuracies on validation set :\", valid_acc1/len(valid_loader), valid_acc2/len(valid_loader), valid_acc3/len(valid_loader))\n",
        "\n",
        "    plt.plot(losses, label='Training Loss')\n",
        "    plt.plot(losses_valid, label='Validation Loss')\n",
        "    plt.ylabel(\"loss\")\n",
        "    plt.xlabel(\"iterations\")\n",
        "    plt.show()"
      ],
      "execution_count": null,
      "outputs": []
    },
    {
      "cell_type": "code",
      "metadata": {
        "id": "3Ll7s_Z0CB9Q",
        "colab_type": "code",
        "colab": {}
      },
      "source": [
        "lr_scheduler1 = torch.optim.lr_scheduler.ReduceLROnPlateau(optimizer1, patience=4, verbose=True, eps = 10e-14)\n",
        "lr_scheduler2 = torch.optim.lr_scheduler.ReduceLROnPlateau(optimizer2, patience=2, verbose=True, eps = 10e-14)\n",
        "lr_scheduler3 = torch.optim.lr_scheduler.ReduceLROnPlateau(optimizer3, patience=4, verbose=True, eps = 10e-14)"
      ],
      "execution_count": null,
      "outputs": []
    },
    {
      "cell_type": "code",
      "metadata": {
        "id": "Us5vkJ3-O5a5",
        "colab_type": "code",
        "colab": {
          "base_uri": "https://localhost:8080/",
          "height": 1000
        },
        "outputId": "8cccc739-9515-4e74-9bbf-8b8d491cac39"
      },
      "source": [
        "fit(model1, model2, model3, 30, train_loader, valid_loader, optimizer1, optimizer2, optimizer3)"
      ],
      "execution_count": null,
      "outputs": [
        {
          "output_type": "stream",
          "text": [
            "Iteration no: 0 \n",
            " Training  loss = 438.66725873947144\n",
            "Accuracies on training set: tensor(0.6108, device='cuda:0') tensor(0.2389, device='cuda:0') tensor(0.7310, device='cuda:0')\n",
            "Validation loss = 19.03929901123047\n",
            "Accuracies on validation set : tensor(0.7292, device='cuda:0') tensor(0.3229, device='cuda:0') tensor(0.8438, device='cuda:0')\n",
            "Iteration no: 1 \n",
            " Training  loss = 380.0847358703613\n",
            "Accuracies on training set: tensor(0.7658, device='cuda:0') tensor(0.2247, device='cuda:0') tensor(0.7753, device='cuda:0')\n",
            "Validation loss = 17.69219970703125\n",
            "Accuracies on validation set : tensor(0.7396, device='cuda:0') tensor(0.2917, device='cuda:0') tensor(0.8438, device='cuda:0')\n",
            "Iteration no: 2 \n",
            " Training  loss = 363.59199714660645\n",
            "Accuracies on training set: tensor(0.7785, device='cuda:0') tensor(0.2373, device='cuda:0') tensor(0.7975, device='cuda:0')\n",
            "Validation loss = 15.333709716796875\n",
            "Accuracies on validation set : tensor(0.9375, device='cuda:0') tensor(0.4167, device='cuda:0') tensor(0.9062, device='cuda:0')\n",
            "Iteration no: 3 \n",
            " Training  loss = 354.4658417701721\n",
            "Accuracies on training set: tensor(0.8291, device='cuda:0') tensor(0.2975, device='cuda:0') tensor(0.8117, device='cuda:0')\n",
            "Validation loss = 15.686979293823242\n",
            "Accuracies on validation set : tensor(0.9688, device='cuda:0') tensor(0.4792, device='cuda:0') tensor(0.8333, device='cuda:0')\n",
            "Iteration no: 4 \n",
            " Training  loss = 332.8686490058899\n",
            "Accuracies on training set: tensor(0.8513, device='cuda:0') tensor(0.3085, device='cuda:0') tensor(0.8497, device='cuda:0')\n",
            "Validation loss = 13.091689109802246\n",
            "Accuracies on validation set : tensor(1., device='cuda:0') tensor(0.5417, device='cuda:0') tensor(0.9062, device='cuda:0')\n",
            "Iteration no: 5 \n",
            " Training  loss = 312.8394191265106\n",
            "Accuracies on training set: tensor(0.8639, device='cuda:0') tensor(0.3623, device='cuda:0') tensor(0.8829, device='cuda:0')\n",
            "Validation loss = 13.419184684753418\n",
            "Accuracies on validation set : tensor(0.9375, device='cuda:0') tensor(0.4479, device='cuda:0') tensor(0.8750, device='cuda:0')\n",
            "Iteration no: 6 \n",
            " Training  loss = 309.92081236839294\n",
            "Accuracies on training set: tensor(0.8766, device='cuda:0') tensor(0.3924, device='cuda:0') tensor(0.8465, device='cuda:0')\n",
            "Validation loss = 11.226911544799805\n",
            "Accuracies on validation set : tensor(0.9271, device='cuda:0') tensor(0.6875, device='cuda:0') tensor(0.8958, device='cuda:0')\n",
            "Iteration no: 7 \n",
            " Training  loss = 318.8663582801819\n",
            "Accuracies on training set: tensor(0.8623, device='cuda:0') tensor(0.4241, device='cuda:0') tensor(0.8291, device='cuda:0')\n",
            "Validation loss = 11.870600700378418\n",
            "Accuracies on validation set : tensor(0.9062, device='cuda:0') tensor(0.6458, device='cuda:0') tensor(0.9688, device='cuda:0')\n",
            "Iteration no: 8 \n",
            " Training  loss = 301.8219404220581\n",
            "Accuracies on training set: tensor(0.8892, device='cuda:0') tensor(0.4921, device='cuda:0') tensor(0.8465, device='cuda:0')\n",
            "Validation loss = 10.720151901245117\n",
            "Accuracies on validation set : tensor(0.9688, device='cuda:0') tensor(0.7083, device='cuda:0') tensor(0.9375, device='cuda:0')\n",
            "Iteration no: 9 \n",
            " Training  loss = 299.2749683856964\n",
            "Accuracies on training set: tensor(0.8797, device='cuda:0') tensor(0.5000, device='cuda:0') tensor(0.8354, device='cuda:0')\n",
            "Validation loss = 10.683243751525879\n",
            "Accuracies on validation set : tensor(1., device='cuda:0') tensor(0.6771, device='cuda:0') tensor(0.8958, device='cuda:0')\n",
            "Iteration no: 10 \n",
            " Training  loss = 287.78271412849426\n",
            "Accuracies on training set: tensor(0.8972, device='cuda:0') tensor(0.5174, device='cuda:0') tensor(0.8481, device='cuda:0')\n",
            "Epoch    11: reducing learning rate of group 0 to 1.0000e-04.\n",
            "Validation loss = 10.187973976135254\n",
            "Accuracies on validation set : tensor(1., device='cuda:0') tensor(0.7396, device='cuda:0') tensor(0.9062, device='cuda:0')\n",
            "Iteration no: 11 \n",
            " Training  loss = 278.7920205593109\n",
            "Accuracies on training set: tensor(0.8908, device='cuda:0') tensor(0.5190, device='cuda:0') tensor(0.8687, device='cuda:0')\n",
            "Validation loss = 10.86159610748291\n",
            "Accuracies on validation set : tensor(0.9375, device='cuda:0') tensor(0.7500, device='cuda:0') tensor(0.8750, device='cuda:0')\n",
            "Iteration no: 12 \n",
            " Training  loss = 263.04104447364807\n",
            "Accuracies on training set: tensor(0.9209, device='cuda:0') tensor(0.5443, device='cuda:0') tensor(0.9066, device='cuda:0')\n",
            "Validation loss = 10.422004699707031\n",
            "Accuracies on validation set : tensor(0.9688, device='cuda:0') tensor(0.7292, device='cuda:0') tensor(0.9375, device='cuda:0')\n",
            "Iteration no: 13 \n",
            " Training  loss = 256.8695650100708\n",
            "Accuracies on training set: tensor(0.9146, device='cuda:0') tensor(0.5854, device='cuda:0') tensor(0.8908, device='cuda:0')\n",
            "Validation loss = 9.288352012634277\n",
            "Accuracies on validation set : tensor(1., device='cuda:0') tensor(0.7500, device='cuda:0') tensor(0.9062, device='cuda:0')\n",
            "Iteration no: 14 \n",
            " Training  loss = 268.57356309890747\n",
            "Accuracies on training set: tensor(0.9019, device='cuda:0') tensor(0.5617, device='cuda:0') tensor(0.8687, device='cuda:0')\n",
            "Validation loss = 10.553852081298828\n",
            "Accuracies on validation set : tensor(1., device='cuda:0') tensor(0.6354, device='cuda:0') tensor(0.8958, device='cuda:0')\n",
            "Iteration no: 15 \n",
            " Training  loss = 267.5882065296173\n",
            "Accuracies on training set: tensor(0.9066, device='cuda:0') tensor(0.5491, device='cuda:0') tensor(0.8718, device='cuda:0')\n",
            "Validation loss = 11.452814102172852\n",
            "Accuracies on validation set : tensor(0.9688, device='cuda:0') tensor(0.5938, device='cuda:0') tensor(0.8750, device='cuda:0')\n",
            "Iteration no: 16 \n",
            " Training  loss = 258.6175911426544\n",
            "Accuracies on training set: tensor(0.9256, device='cuda:0') tensor(0.5839, device='cuda:0') tensor(0.8797, device='cuda:0')\n",
            "Validation loss = 10.177102088928223\n",
            "Accuracies on validation set : tensor(1., device='cuda:0') tensor(0.6771, device='cuda:0') tensor(0.9688, device='cuda:0')\n",
            "Iteration no: 17 \n",
            " Training  loss = 267.801664352417\n",
            "Accuracies on training set: tensor(0.9272, device='cuda:0') tensor(0.5886, device='cuda:0') tensor(0.8608, device='cuda:0')\n",
            "Epoch    18: reducing learning rate of group 0 to 1.0000e-05.\n",
            "Validation loss = 10.247361183166504\n",
            "Accuracies on validation set : tensor(0.9688, device='cuda:0') tensor(0.6667, device='cuda:0') tensor(0.9583, device='cuda:0')\n",
            "Iteration no: 18 \n",
            " Training  loss = 248.81864714622498\n",
            "Accuracies on training set: tensor(0.9225, device='cuda:0') tensor(0.6266, device='cuda:0') tensor(0.8956, device='cuda:0')\n",
            "Validation loss = 10.266366958618164\n",
            "Accuracies on validation set : tensor(1., device='cuda:0') tensor(0.6354, device='cuda:0') tensor(0.9375, device='cuda:0')\n",
            "Iteration no: 19 \n",
            " Training  loss = 239.4041268825531\n",
            "Accuracies on training set: tensor(0.9320, device='cuda:0') tensor(0.6392, device='cuda:0') tensor(0.9066, device='cuda:0')\n",
            "Validation loss = 9.068111419677734\n",
            "Accuracies on validation set : tensor(1., device='cuda:0') tensor(0.7396, device='cuda:0') tensor(0.9271, device='cuda:0')\n",
            "Iteration no: 20 \n",
            " Training  loss = 240.07395839691162\n",
            "Accuracies on training set: tensor(0.9478, device='cuda:0') tensor(0.6472, device='cuda:0') tensor(0.8750, device='cuda:0')\n",
            "Validation loss = 9.304889678955078\n",
            "Accuracies on validation set : tensor(1., device='cuda:0') tensor(0.7188, device='cuda:0') tensor(0.9375, device='cuda:0')\n",
            "Iteration no: 21 \n",
            " Training  loss = 231.84879732131958\n",
            "Accuracies on training set: tensor(0.9399, device='cuda:0') tensor(0.6978, device='cuda:0') tensor(0.8987, device='cuda:0')\n",
            "Validation loss = 8.838353157043457\n",
            "Accuracies on validation set : tensor(1., device='cuda:0') tensor(0.8021, device='cuda:0') tensor(1., device='cuda:0')\n",
            "Iteration no: 22 \n",
            " Training  loss = 227.16332936286926\n",
            "Accuracies on training set: tensor(0.9430, device='cuda:0') tensor(0.7009, device='cuda:0') tensor(0.8908, device='cuda:0')\n",
            "Validation loss = 8.93444538116455\n",
            "Accuracies on validation set : tensor(1., device='cuda:0') tensor(0.7396, device='cuda:0') tensor(0.9688, device='cuda:0')\n",
            "Iteration no: 23 \n",
            " Training  loss = 236.48439002037048\n",
            "Accuracies on training set: tensor(0.9320, device='cuda:0') tensor(0.7009, device='cuda:0') tensor(0.8861, device='cuda:0')\n",
            "Validation loss = 7.771944999694824\n",
            "Accuracies on validation set : tensor(1., device='cuda:0') tensor(0.9062, device='cuda:0') tensor(0.9688, device='cuda:0')\n",
            "Iteration no: 24 \n",
            " Training  loss = 228.55891370773315\n",
            "Accuracies on training set: tensor(0.9335, device='cuda:0') tensor(0.7136, device='cuda:0') tensor(0.8766, device='cuda:0')\n",
            "Epoch    25: reducing learning rate of group 0 to 1.0000e-06.\n",
            "Validation loss = 7.937280178070068\n",
            "Accuracies on validation set : tensor(1., device='cuda:0') tensor(0.9062, device='cuda:0') tensor(0.9375, device='cuda:0')\n",
            "Iteration no: 25 \n",
            " Training  loss = 239.4573359489441\n",
            "Accuracies on training set: tensor(0.9494, device='cuda:0') tensor(0.6646, device='cuda:0') tensor(0.8750, device='cuda:0')\n",
            "Validation loss = 7.958264350891113\n",
            "Accuracies on validation set : tensor(1., device='cuda:0') tensor(0.8333, device='cuda:0') tensor(1., device='cuda:0')\n",
            "Iteration no: 26 \n",
            " Training  loss = 223.2379128932953\n",
            "Accuracies on training set: tensor(0.9462, device='cuda:0') tensor(0.6962, device='cuda:0') tensor(0.9177, device='cuda:0')\n",
            "Validation loss = 8.032533645629883\n",
            "Accuracies on validation set : tensor(1., device='cuda:0') tensor(0.8646, device='cuda:0') tensor(0.9688, device='cuda:0')\n",
            "Iteration no: 27 \n",
            " Training  loss = 220.60175681114197\n",
            "Accuracies on training set: tensor(0.9399, device='cuda:0') tensor(0.7690, device='cuda:0') tensor(0.9130, device='cuda:0')\n",
            "Epoch    28: reducing learning rate of group 0 to 1.0000e-04.\n",
            "Validation loss = 9.207913398742676\n",
            "Accuracies on validation set : tensor(1., device='cuda:0') tensor(0.8438, device='cuda:0') tensor(0.8750, device='cuda:0')\n",
            "Iteration no: 28 \n",
            " Training  loss = 213.65647625923157\n",
            "Accuracies on training set: tensor(0.9509, device='cuda:0') tensor(0.7468, device='cuda:0') tensor(0.8987, device='cuda:0')\n",
            "Validation loss = 7.959820747375488\n",
            "Accuracies on validation set : tensor(1., device='cuda:0') tensor(0.8750, device='cuda:0') tensor(0.9688, device='cuda:0')\n",
            "Iteration no: 29 \n",
            " Training  loss = 214.60011315345764\n",
            "Accuracies on training set: tensor(0.9731, device='cuda:0') tensor(0.7373, device='cuda:0') tensor(0.8940, device='cuda:0')\n",
            "Validation loss = 8.072341918945312\n",
            "Accuracies on validation set : tensor(1., device='cuda:0') tensor(0.8438, device='cuda:0') tensor(0.9375, device='cuda:0')\n"
          ],
          "name": "stdout"
        },
        {
          "output_type": "display_data",
          "data": {
            "image/png": "[encoded data removed]",
            "text/plain": [
              "<Figure size 432x288 with 1 Axes>"
            ]
          },
          "metadata": {
            "tags": [],
            "needs_background": "light"
          }
        }
      ]
    },
    {
      "cell_type": "code",
      "metadata": {
        "id": "OmlZbHgMIev5",
        "colab_type": "code",
        "colab": {
          "base_uri": "https://localhost:8080/",
          "height": 35
        },
        "outputId": "28576b82-5420-4229-b054-82fc840df6dc"
      },
      "source": [
        "model1.eval()    \n",
        "model2.eval()    \n",
        "model3.eval()    \n",
        "with torch.no_grad():\n",
        "    test_acc=0\n",
        "    for xb_test, yb_test in test_loader:\n",
        "        xb_test = xb_test.to(device)\n",
        "        yb_test = yb_test.to(device)\n",
        "        pred_test1 = model1(xb_test.float())\n",
        "        pred_test1.to(device)\n",
        "        pred_test2 = model2(xb_test.float())\n",
        "        pred_test2.to(device)\n",
        "        pred_test3 = model3(xb_test.float())\n",
        "        pred_test3.to(device)\n",
        "        test_acc += (accuracy(pred_test1, yb_test[:,0]) + accuracy(pred_test2, yb_test[:,1]) + accuracy(pred_test3, yb_test[:,2]))/3\n",
        "    print(\"Accuracy of test set :\", test_acc/len(test_loader))"
      ],
      "execution_count": null,
      "outputs": [
        {
          "output_type": "stream",
          "text": [
            "Accuracy of test set : tensor(0.9444, device='cuda:0')\n"
          ],
          "name": "stdout"
        }
      ]
    },
    {
      "cell_type": "code",
      "metadata": {
        "id": "b6S2BqKWIiw-",
        "colab_type": "code",
        "colab": {}
      },
      "source": [
        ""
      ],
      "execution_count": null,
      "outputs": []
    }
  ]
}